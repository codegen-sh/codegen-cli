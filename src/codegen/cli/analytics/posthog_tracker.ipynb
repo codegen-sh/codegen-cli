{
 "cells": [
  {
   "cell_type": "code",
   "execution_count": null,
   "metadata": {},
   "outputs": [],
   "source": [
    "# test get_repo_full_name\n",
    "import os\n",
    "\n",
    "os.environ[\"ENV\"] = \"staging\"\n",
    "\n",
    "from codegen.cli.analytics.posthog_tracker import PostHogTracker\n",
    "from codegen.cli.auth.session import CodegenSession\n",
    "\n",
    "\n",
    "POSTHOG_TRACKER = PostHogTracker(CodegenSession())\n",
    "POSTHOG_TRACKER.capture_event(\"christine_event_2\")"
   ]
  }
 ],
 "metadata": {
  "kernelspec": {
   "display_name": ".venv",
   "language": "python",
   "name": "python3"
  },
  "language_info": {
   "codemirror_mode": {
    "name": "ipython",
    "version": 3
   },
   "file_extension": ".py",
   "mimetype": "text/x-python",
   "name": "python",
   "nbconvert_exporter": "python",
   "pygments_lexer": "ipython3",
   "version": "3.13.0"
  }
 },
 "nbformat": 4,
 "nbformat_minor": 2
}
