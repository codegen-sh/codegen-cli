{
 "cells": [
  {
   "cell_type": "code",
   "execution_count": null,
   "metadata": {},
   "outputs": [],
   "source": [
    "from pathlib import Path\n",
    "from codegen.api.client import RestAPI\n",
    "from codegen.utils.codemods import Codemod\n",
    "from codegen.utils.schema import CodemodConfig\n",
    "\n",
    "\n",
    "codemod = Codemod(\n",
    "    name=\"test\",\n",
    "    path=Path(\"/Users/christinewang/git/codegen-cli/codegen-sh/codemods/test/run.py\"),\n",
    "    config=CodemodConfig(\n",
    "        name=\"test\",\n",
    "        codemod_id=7447,\n",
    "        description=\"test\",\n",
    "        created_at=\"2023-07-11T18:00:00.000Z\",\n",
    "        created_by=\"christinewangcw\",\n",
    "    ),\n",
    ")\n",
    "run_output = RestAPI(\"sk-8c3bca06-a40d-4775-8d1c-64dfbcd445fd\").run(\n",
    "    codemod=codemod,\n",
    ")"
   ]
  }
 ],
 "metadata": {
  "kernelspec": {
   "display_name": ".venv",
   "language": "python",
   "name": "python3"
  },
  "language_info": {
   "name": "python",
   "version": "3.13.0"
  }
 },
 "nbformat": 4,
 "nbformat_minor": 2
}
